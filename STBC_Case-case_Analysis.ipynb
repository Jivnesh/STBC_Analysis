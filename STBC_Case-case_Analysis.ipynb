{
 "cells": [
  {
   "cell_type": "code",
   "execution_count": 1,
   "metadata": {},
   "outputs": [],
   "source": [
    "# Load the libraries\n",
    "import pandas as pd\n",
    "import os\n",
    "import re\n",
    "import seaborn as sn\n",
    "import pandas as pd\n",
    "import collections\n",
    "import matplotlib.pyplot as plt\n",
    "from sklearn.metrics import confusion_matrix\n",
    "case_list = ['nom','voc','acc','inst','dat','abl','g','loc']"
   ]
  },
  {
   "cell_type": "code",
   "execution_count": 2,
   "metadata": {},
   "outputs": [],
   "source": [
    "# Function to clean morphological tags by removing unnecessary information\n",
    "def clean_ma(ma):\n",
    "    ma = re.sub(\"([\\(\\[]).*?([\\)\\]])\", \"\\g<1>\\g<2>\", ma).replace('[] ','').strip(' []').replace(' ac','').replace(' ps','').replace('sgpl','sg').replace('sgdu','sg')\n",
    "    ma = ma.replace('i.','inst.').replace('.','').replace(' ','')\n",
    "    return ma\n",
    "\n",
    "# Function for extracting the case information from the morph tag\n",
    "def get_case(ma):\n",
    "    indeclinable = ['ind','prep','interj','prep','conj','part']\n",
    "    case_list = ['nom','voc','acc','i','inst','dat','abl','g','loc']\n",
    "    gender_list = ['n','f','m','*']\n",
    "    person_list = ['1','2','3']\n",
    "    no_list = ['du','sg','pl']\n",
    "    pops = [' ac',' ps']\n",
    "    ma=ma.replace('sgpl','sg').replace('sgdu','sg')\n",
    "    temp = re.sub(\"([\\(\\[]).*?([\\)\\]])\", \"\\g<1>\\g<2>\", ma).replace('[] ','').strip(' []')\n",
    "    temp = temp.split('.')\n",
    "    if temp[-1] == '':\n",
    "        temp.pop(-1)\n",
    "    # Remove active passive\n",
    "    case=''\n",
    "    no=''\n",
    "    person=''\n",
    "    gender=''\n",
    "    tense=''\n",
    "    coarse=''\n",
    "    for a,b in enumerate(temp):\n",
    "        if b in pops:\n",
    "            temp.pop(a)\n",
    "    # Get gender\n",
    "    for a,b in enumerate(temp):\n",
    "        if b.strip() in gender_list:\n",
    "            gender = b.strip()\n",
    "            temp.pop(a)\n",
    "    # Get case\n",
    "    for a,b in enumerate(temp):\n",
    "        if b.strip() in case_list:\n",
    "            case = b.strip()\n",
    "            temp.pop(a)\n",
    "    if case!= '':\n",
    "        coarse ='Noun'\n",
    "    # Get person\n",
    "    for a,b in enumerate(temp):\n",
    "        if b.strip() in person_list:\n",
    "            person = b.strip()\n",
    "            temp.pop(a)\n",
    "    # Get no\n",
    "    for a,b in enumerate(temp):\n",
    "        if b.strip() in no_list:\n",
    "            no = b.strip()\n",
    "            temp.pop(a)\n",
    "    # Get Tense\n",
    "    for b in temp:\n",
    "        tense=tense+ ' '+b.strip()\n",
    "    tense=tense.strip()\n",
    "\n",
    "    if tense == 'adv':\n",
    "        coarse = 'adv'\n",
    "    for ind in indeclinable:\n",
    "        if tense == ind:\n",
    "            coarse = 'Ind'\n",
    "    if tense == 'abs' or tense == 'ca abs':\n",
    "        coarse = 'IV'\n",
    "    if tense!='' and coarse=='':\n",
    "        if person !='' or no!='':\n",
    "            coarse= 'FV'\n",
    "        else:\n",
    "            coarse = 'IV'\n",
    "    if case == 'i':\n",
    "        return 'inst'\n",
    "\n",
    "    if case !='':\n",
    "        return case\n",
    "    else:\n",
    "        return coarse"
   ]
  },
  {
   "cell_type": "markdown",
   "metadata": {},
   "source": [
    "### Impossible modifier- Head pairs\n",
    "Noun-noun relationship is only possible if the modifier in genitive case or modifier and head have the same morphological tag (Visheshana). Otherwise relationships are not possible."
   ]
  },
  {
   "cell_type": "code",
   "execution_count": 3,
   "metadata": {},
   "outputs": [],
   "source": [
    "f = open('files/data/ud_pos_ner_dp_train_san','r')\n",
    "lines = f.readlines()\n",
    "Noun_noun_pair = dict()\n",
    "f.close()\n",
    "w = open('files/analysis/Noun_noun_corner_cases_train_data.txt','w')\n",
    "frame = []\n",
    "ct = 0\n",
    "modifiers = list()\n",
    "heads = list()\n",
    "temp = set()\n",
    "for line in lines:\n",
    "    if line == '\\n':\n",
    "        data = pd.DataFrame(frame)\n",
    "\n",
    "        for i in range(len(data)):\n",
    "            m = get_case(data.iloc[i,2])\n",
    "            h = get_case(data.iloc[int(float(data.iloc[i,-2]))-1,2])\n",
    "            if m in case_list and h in case_list:\n",
    "                if m == h or m ==  'g':\n",
    "                    w.write('\\t'.join(list(data.iloc[i,:]))+'\\t'+'---\\n')\n",
    "                else:\n",
    "                    w.write('\\t'.join(list(data.iloc[i,:]))+'\\t'+m+'-'+h+'\\n')\n",
    "                    if m+'-'+h not in  Noun_noun_pair.keys():\n",
    "                        Noun_noun_pair[m+'-'+h] = list()\n",
    "                        Noun_noun_pair[m+'-'+h].append(data.iloc[i,-1])\n",
    "                    else:\n",
    "                        Noun_noun_pair[m+'-'+h].append(data.iloc[i,-1])\n",
    "#                     if data.iloc[i,-1] == 'viseranam':\n",
    "                    modifiers.append(m)\n",
    "                    heads.append(h)   \n",
    "            else:\n",
    "                w.write('\\t'.join(list(data.iloc[i,:]))+'\\t'+'---\\n')\n",
    "        w.write('\\n')\n",
    "        frame = []\n",
    "        continue\n",
    "    line = line.split('\\t')\n",
    "    line[-1] = line[-1].replace('\\n','')\n",
    "    frame.append(line)\n",
    "w.close()\n"
   ]
  },
  {
   "cell_type": "markdown",
   "metadata": {},
   "source": [
    "### Heatmap for Noun-noun pairs"
   ]
  },
  {
   "cell_type": "code",
   "execution_count": 4,
   "metadata": {},
   "outputs": [
    {
     "data": {
      "text/plain": [
       "<matplotlib.axes._subplots.AxesSubplot at 0x7f3cebc706d0>"
      ]
     },
     "execution_count": 4,
     "metadata": {},
     "output_type": "execute_result"
    },
    {
     "data": {
      "image/png": "[encoded data removed]",
      "text/plain": [
       "<Figure size 432x288 with 2 Axes>"
      ]
     },
     "metadata": {
      "needs_background": "light"
     },
     "output_type": "display_data"
    }
   ],
   "source": [
    "array = confusion_matrix(modifiers, heads, labels=case_list)\n",
    "df_cm = pd.DataFrame(array, index = case_list, columns = case_list)\n",
    "plt.figure(figsize = (6,4))\n",
    "sn.heatmap(df_cm, annot=True, cmap=\"Blues\",  fmt='g')"
   ]
  },
  {
   "cell_type": "markdown",
   "metadata": {},
   "source": [
    "### What all relations occur for the noun-noun pair"
   ]
  },
  {
   "cell_type": "code",
   "execution_count": 5,
   "metadata": {},
   "outputs": [
    {
     "name": "stdout",
     "output_type": "stream",
     "text": [
      "Counter({'viseranam': 24, 'karwa': 4, 'anuyogi': 2, 'sambanxah': 2, 'root': 1, 'bavalakranasapwami_samanakalah': 1})\n"
     ]
    }
   ],
   "source": [
    "a = Noun_noun_pair['nom-g']\n",
    "counter=collections.Counter(a)\n",
    "print(counter)"
   ]
  },
  {
   "cell_type": "markdown",
   "metadata": {},
   "source": [
    "### Investigate these noun-noun cases\n",
    "You can access them [here](https://github.com/Jivnesh/STBC_Analysis/blob/main/files/analysis/Noun_noun_corner_cases_train_data.txt)"
   ]
  },
  {
   "cell_type": "code",
   "execution_count": null,
   "metadata": {},
   "outputs": [],
   "source": []
  }
 ],
 "metadata": {
  "kernelspec": {
   "display_name": "Python 3",
   "language": "python",
   "name": "python3"
  },
  "language_info": {
   "codemirror_mode": {
    "name": "ipython",
    "version": 3
   },
   "file_extension": ".py",
   "mimetype": "text/x-python",
   "name": "python",
   "nbconvert_exporter": "python",
   "pygments_lexer": "ipython3",
   "version": "3.7.4"
  }
 },
 "nbformat": 4,
 "nbformat_minor": 2
}
